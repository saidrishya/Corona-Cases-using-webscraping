{
 "metadata": {
  "language_info": {
   "codemirror_mode": {
    "name": "ipython",
    "version": 3
   },
   "file_extension": ".py",
   "mimetype": "text/x-python",
   "name": "python",
   "nbconvert_exporter": "python",
   "pygments_lexer": "ipython3",
   "version": 3
  },
  "orig_nbformat": 2,
  "kernelspec": {
   "name": "python_defaultSpec_1596120083762",
   "display_name": "Python 3.8.3 64-bit"
  }
 },
 "nbformat": 4,
 "nbformat_minor": 2,
 "cells": [
  {
   "cell_type": "code",
   "execution_count": 1,
   "metadata": {},
   "outputs": [],
   "source": [
    "#Import the libraries\n",
    "import requests\n",
    "from bs4 import BeautifulSoup"
   ]
  },
  {
   "cell_type": "code",
   "execution_count": 3,
   "metadata": {},
   "outputs": [],
   "source": [
    "url = \"https://www.ndtv.com/coronavirus/india-covid-19-tracker\""
   ]
  },
  {
   "cell_type": "code",
   "execution_count": 4,
   "metadata": {},
   "outputs": [],
   "source": [
    "page = requests.get(url)"
   ]
  },
  {
   "cell_type": "code",
   "execution_count": 6,
   "metadata": {},
   "outputs": [
    {
     "output_type": "execute_result",
     "data": {
      "text/plain": "<Response [200]>"
     },
     "metadata": {},
     "execution_count": 6
    }
   ],
   "source": [
    "page"
   ]
  },
  {
   "cell_type": "code",
   "execution_count": 7,
   "metadata": {},
   "outputs": [
    {
     "output_type": "execute_result",
     "data": {
      "text/plain": "></div></div></td><td class=\"table-cell\"><p class=\"mid-wrap\">398 <span class=\"data-up\">14</span></p></td><td class=\"table-cell\"><p class=\"mid-wrap\">183 </p></td><td class=\"table-cell\"><p class=\"mid-wrap\">215 <span class=\"data-down-up\">17</span></p></td><td class=\"table-cell\"><p class=\"mid-wrap\">0 </p></td></tr><tr class=\"table-row\"><td class=\"table-cell\"><input class=\\'ip\\' type=\"checkbox\" id=\"st36\"><label for=\"st36\">Lakshadweep</label><div class=\\'ddiv\\'><div class=\"dist-list\"><span>District</span><span>Cases</span></div><div class=\"dist-list\"><span>Lakshadweep District</span><span>0</span></div></div></td><td class=\"table-cell\"><p class=\"mid-wrap\">0 </p></td><td class=\"table-cell\"><p class=\"mid-wrap\">0 </p></td><td class=\"table-cell\"><p class=\"mid-wrap\">0 </p></td><td class=\"table-cell\"><p class=\"mid-wrap\">0 </p></td></tr></tbody></table><div class=\\'ldmore\\'><label for=\\'showRetired\\'>Show more</label></div><div class=\\'ldhide\\'><label for=\\'showRetired\\'>Show less</label></div></div><div class=\"p mt20\"><span>Coronavirus Outbreak:</span><a href=\"https://www.ndtv.com/coronavirus\">Full Coverage</a><a href=\"https://www.ndtv.com/coronavirus/india-covid-19-outbreak-map\">Cases in India</a><a href=\"https://www.ndtv.com/coronavirus/helpline-numbers\">Helplines</a><a href=\"https://www.ndtv.com/coronavirus/faq\">FAQs</a></div></div></div></iframe><div class=\"__taboola_story_widget\" style=\\'width:100%;float:left;\\'><div id=\"taboola-below-main-column-sc-new-taboola1\"></div><div id=\"taboola-below-main-column-organic-mix\"></div><div id=\"taboola-below-article-thumbnails\"></div><script type=\"text/javascript\">\\n        window._taboola = window._taboola || [];\\n        _taboola.push({\\n            mode: \\'thumbnails-c\\',\\n            container: \\'taboola-below-article-thumbnails\\',\\n            placement: \\'Below Article Thumbnails - NDTV\\',\\n            target_type: \\'mix\\'\\n        });\\n    </script><div id=\"taboola-below-article-thumbnails-2nd\"></div><script type=\"text/javascript\">\\n        window._taboola = window._taboola || [];\\n        _taboola.push({\\n            mode: \\'organic-thumbnails-c\\',\\n            container: \\'taboola-below-article-thumbnails-2nd\\',\\n            placement: \\'Below Article Thumbnails 2nd - NDTV\\',\\n            target_type: \\'mix\\'\\n        });\\n    </script></div></div></div><div class=\"elect_rhscont300 floatr\"><div class=\"elec14_adcont\" id=\"insiderightcont\"><div></div><div class=\"elec14_adcont\"><div style=\"text-align: center;\">................... Advertisement ................... </div><div id=\"adslot300x250ATF\"><script>googletag.cmd.push(function () { googletag.display(\"adslot300x250ATF\"); });</script></div></div><div id=\"taboola-below-main-column-sc\" style=\"margin-left: 4px; width:310px;float:left;display:none;\"></div><script type=\"text/javascript\">var taboola_obj = {\\'taboola_widget_type\\':\\'story\\', \\'taboola_widget_1\\':\\'taboola-below-main-column-sc\\'}; taboolaFunc = function() { var s = document.createElement(\\'script\\'); s.type = \\'text/javascript\\'; s.async = true; s.src = \\'https://www.ndtv.com/widget/conv-tb\\'; document.body.appendChild(s); }; window.setTimeout(function() {taboolaFunc();}, 200); </script><div class=\"elec14_adcont\" style=\"clear:both;margin-top:30px; margin-bottom:10px;\"><div id=\"adslot300x100ATF\" style=\"height:100px; width:300px;\"><script>googletag.cmd.push(function () { googletag.display(\"adslot300x100ATF\"); });</script></div></div><div style=\"display: none;float:left;margin-bottom:20px;margin-top:20px;\" id=\"___ndtvELexBanner-0\"></div><div id=\"taboola-right-rail\"></div><div id=\"taboola-rr-mix\"></div><iframe id=\"iwitnessForm\" style=\"border: none; overflow: hidden; \" src=\"https://drop.ndtv.com/common/sites/lockdownhereos/index.html?u828\" width=\"100%\" height=\"690px\" frameborder=\"0\" scrolling=\"no\"></iframe><div id=\"taboola-right-rail\"></div><div id=\"taboola-rr-mix\"></div><div id=\"taboola-right-rail-thumbnails\"></div><script type=\"text/javascript\">\\n        window._taboola = window._taboola || [];\\n        _taboola.push({\\n            mode: \\'thumbnails-b\\',\\n            container: \\'taboola-right-rail-thumbnails\\',\\n            placement: \\'Right Rail Thumbnails\\',\\n            target_type: \\'video\\'\\n        });\\n    </script><div id=\"taboola-right-rail-thumbnails-2nd\"></div><script type=\"text/javascript\">\\n        window._taboola = window._taboola || [];\\n        _taboola.push({\\n            mode: \\'organic-thumbnails-b\\',\\n            container: \\'taboola-right-rail-thumbnails-2nd\\',\\n            placement: \\'Right Rail Thumbnails 2nd\\',\\n            target_type: \\'mix\\'\\n        });\\n    </script><div id=\"taboola-right-rail-thumbnails-3rd\"></div><script type=\"text/javascript\">\\n        window._taboola = window._taboola || [];\\n        _taboola.push({\\n            mode: \\'vertical-a\\',\\n            container: \\'taboola-right-rail-thumbnails-3rd\\',\\n            placement: \\'Right Rail Thumbnails 3rd\\',\\n            target_type: \\'mix\\'\\n        });\\n    </script><!-- TABOOLA DON\\'t MISS WIDGET START --><div id=\"taboola-right-rail-thumbnails-3rd\"></div><script type=\"text/javascript\">\\n        window._taboola = window._taboola || [];\\n        _taboola.push({\\n            mode: \\'vertical-a\\',\\n            container: \\'taboola-right-rail-thumbnails-3rd\\',\\n            placement: \\'Right Rail Thumbnails 3rd - NDTV\\',\\n            target_type: \\'mix\\'\\n        });\\n    </script><!-- TABOOLA DON\\'t MISS WIDGET END --><div class=\"elec14_adcont marb30\"><div style=\"text-align: center;\">................... Advertisement ................... </div><div id=\"adslot300x250BTF\" style=\"height:250px;\"><script> googletag.cmd.push(function () { googletag.display(\"adslot300x250BTF\"); }); </script></div></div><div class=\"ins_keyword_rhs elec14_widget\"><div class=\"newins_widhead elec14_widtop\" style=\"color:#000;\"><h2>Quick Links</h2></div><div class=\"elec14_widmid\"><a href=\"https://www.ndtv.com/india-news/unlock-3-night-curfew-removed-gyms-to-open-from-august-5-schools-colleges-and-cinema-halls-to-stay-shut-2270950\" title=\"Unlock 3.0 Guidelines\">Unlock 3 guidelines</a><a href=\"https://www.ndtv.com/india-news/coronavirus-see-centres-handy-reference-for-unlock2-guidelines-2255120\" title=\"Unlock 2.0 Guidelines\">Unlock 2 Guidelines</a><a href=\"https://www.ndtv.com/india-news/coronavirus-india-live-news-update-india-ends-night-curfew-covid-19-death-count-in-us-tops-150-000-2271084\" title=\"Coronavirus Live Updates\">Coronavirus Live</a><a href=\"https://www.ndtv.com/coronavirus/helpline-numbers\" title=\"COVID-19 Helpline Number\">Coronavirus Helpline</a><a href=\"https://www.ndtv.com/coronavirus/fullcoverage\" title=\"India Corona Cases\">Coronavirus Cases</a><a href=\"https://www.ndtv.com/coronavirus/faq\" title=\"COVID-19 FAQ\">Coronavirus FAQ</a><a href=\"https://www.ndtv.com/india-news/rafale-live-updates-first-batch-of-5-rafale-jets-to-arrive-in-ambala-today-2270489\" title=\"Rafale Live Updates\">Rafale India Live Updates</a><a href=\"https://www.ndtv.com/india-news/after-rafales-land-in-ambala-rahul-gandhis-3-questions-for-government-2271054\" title=\"Rahul Gandhi News\">Rahul Gandhi</a><a href=\"https://www.ndtv.com/opinion/its-not-pilot-vs-gehlot-its-amit-shah-vs-gehlot-2270219\" title=\"Sachin Pilot news\">Sachin Pilot</a><a href=\"https://www.ndtv.com/india-news/kargil-war-diwas-2020-defence-minister-rajnath-singhs-tribute-to-the-kargil-war-heroes-2268951\" title=\"Rajnath Singh news\">Rajnath Singh</a><a href=\"https://www.ndtv.com/india-news/pm-narendra-modi-address-nation-through-mann-ki-baat-highlights-2268974\" title=\"PM Modi\">PM Narendra Modi</a><a href=\"https://www.ndtv.com/business/share-market-live-updates-sensex-crashes-over-400-points-from-days-high-ahead-of-july-derivatives-expiry-2271303\" title=\"Sensex Today\">SENSEX</a><a href=\"https://www.ndtv.com/world-news/coronavirus-moderna-vaccine-protects-16-monkeys-faces-bigger-test-on-30-000-humans-2270540\" title=\"Moderna\">Coronavirus Vaccine </a><a href=\"https://www.ndtv.com/india-news/rajasthan-political-crisis-supreme-court-hearing-on-rajasthan-today-and-a-congress-dilemma-10-facts-2269272\" title=\"Ashok Gehlot News\">Ashok Gehlot</a><a href=\"https://www.ndtv.com/business/marketdata\" title=\"Share Market\">Share Market Today</a><a href=\"https://www.ndtv.com/india-news/bjp-mp-anil-baluni-says-no-to-priyanka-gandhis-tea-invite-offers-dinner-2269719\" title=\"Priyanka Gandhi Vadra\">Priyanka Gandhi</a><a href=\"https://www.ndtv.com/india-news/india-readies-5-sites-for-final-phase-of-human-trials-of-oxford-covid-vaccine-2269741\" title=\"Oxford COVID vaccine\">Coronavirus Vaccine</a><a href=\"https://www.ndtv.com/india-news/rajasthan-political-crisis-live-updates-governor-agrees-on-assembly-session-from-august-14-speaker-moves-supreme-court-2271107\" title=\"Rajasthan Live Updates\">Rajasthan Live Updates</a><a href=\"https://www.ndtv.com/entertainment/dil-bechara-movie-review-cannot-help-falling-in-love-with-sushant-singh-rajput-and-sanjana-sanghi-3-stars-out-of-5-2268581\" title=\"Sushant Singh\">Sushant Singh Rajput</a><a href=\"https://social.ndtv.com/static/Weather/report/\" title=\"Weather Update Today\">Weather Update</a><a href=\"https://www.ndtv.com/india-news/madhya-pradesh-chief-minister-shivraj-singh-chouhan-tests-coronavirus-positive-2268652\" title=\"Shivraj Singh Chouhan Corona\">Shivraj Singh Chouhan</a><a href=\"https://www.ndtv.com/india-news/spicejet-sonu-sood-to-bring-back-1-500-indian-students-from-kyrgystan-2267633\" title=\"Sonu Sood news\">Sonu Sood</a><a href=\"https://www.ndtv.com/india-news/coronavirus-government-warns-n-95-masks-use-detrimental-to-containing-covid-spread-2266125\" title=\"N-95 Mask rate\">N-95 Mask</a><a href=\"https://www.ndtv.com/india-news/nag-panchami-today-know-all-about-the-festival-dedicated-to-lord-shiva-and-the-snake-gods-2268564\" title=\"Nag Panchami 2020\">Nag Panchami</a><a href=\"https://www.ndtv.com/india-news/india-to-equip-rafale-jets-with-hammer-missiles-under-emergency-order-report-2267787\" title=\"HAMMER Missiles\">HAMMER Missile</a><a href=\"https://www.ndtv.com/business/mukesh-ambanis-reliance-industries-reliance-becomes-world-s-no-2-energy-company-after-saudi-aramco-2269279\" title=\"Mukesh Ambani news\">Mukesh Ambani</a><a href=\"https://pricee.com/biotique-products-list\" title=\"Biotique \">Biotique Products</a><a href=\"https://pricee.com/patanjali-navratan-atta-price-in-india-19852\" title=\"Patanjali\">Patanjali Atta</a><a href=\"https://pricee.com/patanjali-products-list\" title=\"Patanjali Products list\">Patanjali Products</a><a href=\"https://pricee.com/amway-products-list\" title=\"Amway Products list\">Amway Products</a><a href=\"https://hotdeals360.com/utilities/dish-tv-dth-plan-packs-recharge-plan-1972728\" title=\"Dish TV Plans list\">Dish TV Plans</a><a href=\"https://hotdeals360.com/gadgets/best-portable-wifi-hotspot-in-india-1948445\" title=\"Best Dongles List\">Best Dongles</a><a href=\"https://hotdeals360.com/gadgets/best-laptop-brands-in-india-1812628\" title=\"Best Laptop Brands In India\">Laptop Brands</a><a href=\"https://hotdeals360.com/gadgets/best-headphone-brands-1897263\" title=\"Best Headphone Brands\">Headphone Brands</a><a href=\"https://www.ndtv.com/india-news/apj-abdul-kalam-death-anniversary-india-pays-tribute-to-the-missile-man-2269287\" title=\"apj abdul kalam death anniversary\">A. P. J. Abdul Kalam</a><a href=\"https://www.ndtv.com/india-news/world-nature-conservation-day-2020-quotes-that-inspire-images-messages-and-significance-2269912\" title=\"World Nature Conservation Day 2020\">World Nature Conservation Day</a><a href=\"https://www.ndtv.com/health/world-hepatitis-day-2020-theme-causes-treatment-options-and-prevention-hepatitis-free-future-2269878\" title=\"World Hepatitis Day 2020\">World Hepatitis Day</a><a href=\"https://www.ndtv.com/india-news/international-tiger-day-2020-images-videos-theme-significance-all-you-need-to-know-about-indias-success-2270544\" title=\"International Tiger Day 2020\">International Tiger Day</a><a href=\"https://www.ndtv.com/india-news/after-rafales-land-in-ambala-rahul-gandhis-3-questions-for-government-2271054\" title=\"dassault rafale updates\">Dassault Rafale</a></div></div><script type=\"text/javascript\">\\n                function election_states_rhs(t) {\\n                    var selected_val = t.options[t.selectedIndex].value;\\n                    var base_url = \\'https://www.ndtv.com/elections/\\';\\n                    window.location = base_url + selected_val + \\'/results\\';\\n                }\\n</script></div></div><div id=\"super_top_nav_expand\" class=\"footercont\"><ul><li><a href=\"https://www.ndtv.com/rss\" class=\"rss\"><span>RSS</span></a></li><li><a href=\"https://www.ndtv.com/convergence/ndtv/new/NDTVNewsAlert.aspx\" class=\"news\"><span>News Alerts</span></a></li><li><a href=\"https://www.ndtv.com/page/mobile-web\" class=\"mobile\"><span>Mobile</span></a></li><li><a href=\"https://www.ndtv.com/page/apps\" class=\"apps\"><span>Apps</span></a></li><li><a href=\"https://www.ndtv.com/page/ios\" class=\"apple\"><span>Apple</span></a></li><li><a href=\"https://www.ndtv.com/page/android-web\" class=\"droid\"><span>Android</span></a></li><li><a href=\"https://www.facebook.com/campaign/landing.php?campaign_id=237467320636\" class=\"fb\"><span>Facebook</span></a></li><li><a href=\"https://twitter.com/ndtv\" class=\"twt\"><span>Twitter</span></a></li><li><a href=\"https://plus.google.com/102278458637341773682/posts\" class=\"gp\"><span>Google +</span></a></li><li><a href=\"https://www.linkedin.com/company/ndtv\" class=\"lnkdin\"><span>LinkedIn</span></a></li></ul><ul><li><a href=\"https://www.ndtv.com/convergence/ndtv/corporatepage/index.aspx\">About Us</a></li><li><a href=\"https://archives.ndtv.com/index.html\">Archives</a></li><li><a href=\"https://www.ndtv.com/convergence/ndtv/adspecs/ndtv_leaderboard.asp\">Advertise</a></li><li><a href=\"https://www.ndtv.com/convergence/ndtv/new/feedback.aspx\">Feedback</a></li><li><a href=\"https://www.ndtv.com/convergence/ndtv/new/disclaimer.aspx\">Disclaimer</a></li><li><a href=\"https://www.ndtv.com/convergence/ndtv/corporatepage/investors.aspx\">Investor</a></li><li><a href=\"https://www.ndtv.com/convergence/ndtv/new/Complaint.aspx\">Complaint Redressal</a></li><li><a href=\"https://www.ndtv.com/soli\">Ombudsman</a></li><li><a href=\"https://www.ndtv.com/careers/\">Careers</a></li><li><a href=\"https://www.ndtv.com/convergence/ndtv/new/termsofusage.aspx\">Service Terms</a></li><li><a href=\"https://www.ndtv.com/convergence/ndtv/new/dth.aspx\">Channel Distribution</a></li></ul><div class=\"copywrite\">&copy; Copyright NDTV Convergence Limited 2020. All rights reserved.</div></div><div style=\"display:none;\" id=\"story_share_bar\" class =\"\"><div class=\"bar_cont ad_common mart10\"><!-- tweet start --><div class=\"float_l marr5 f_lu fs12\"><a href=\"https://twitter.com/share?url=\" class=\"twitter-share-button\" data-url=\"\" data-text=\"\" data-via=\"ndtv\" data-related=\"CricketNDTV : NDTV Cricket,moviesndtv : NDTV Movies,NDTVGadgets : NDTV Gadgets,NDTVProfit : NDTV Profit,NDTVCooks : NDTV Cooks,ndtvfeed : NDTV News Feed,ndtvvideos : NDTV Videos\">Tweet</a><script>!function(d,s,id){var js,fjs=d.getElementsByTagName(s)[0];if(!d.getElementById(id)){js=d.createElement(s);js.id=id;js.src=\"//platform.twitter.com/widgets.js\";fjs.parentNode.insertBefore(js,fjs);}}(document,\"script\",\"twitter-wjs\");</script></div><!-- tweet Ends --><div class=\"float_l marr5 f_lu fs12\"><iframe src=\"//www.facebook.com/plugins/like.php?href=&amp;send=false&amp;layout=button&amp;width=125&amp;show_faces=false&amp;action=recommend&amp;colorscheme=light&amp;font&amp;height=21&amp;appId=200643799985524\" scrolling=\"no\" frameborder=\"0\" style=\"border:none; overflow:hidden; width:125px; height:21px;\" allowTransparency=\"true\"></iframe></div><div class=\"float_l f_lu fs12 marr10 marl10\"><a href=\"https://www.reddit.com/submit\" onclick=\"window.open(\\'https://www.reddit.com/submit?url=\\' + encodeURIComponent(window.location) + \\'&title=\\', \\'_blank\\'); return false;\" target=\"_blank\"><img src=\"https://cdn.ndtv.com/static/images/reddit-btn.png\" alt=\"submit to reddit\" border=\"0\" /></a></div><div class=\"float_l marr10 f_lu fs12 marl10\"><script src=\"//platform.linkedin.com/in.js\" type=\"text/javascript\">\\n         lang: en_US\\n        </script><script type=\"IN/Share\"></script></div><div class=\"float_r\"><!-- comment start --><!-- comment Ends --></div></div></div><div style=\"display:none;\" id=\"google_ads_bar\"></div><div style=\"display:none;\" id=\"zedo_page_pusher_ad\"></div><script type=\"text/javascript\">var ad_div6 = document.getElementById(\\'google_ads_bar\\');if (document.getElementById(\\'googlead\\') && ad_div6) {document.getElementById(\\'googlead\\').appendChild(ad_div6);ad_div6.style.display = \\'block\\';$(\\'.adcont\\').show();}var story_div1 = document.getElementById(\\'story_share_bar\\');if (document.getElementById(\\'top_share\\') && story_div1) {document.getElementById(\\'top_share\\').appendChild(story_div1);story_div1.style.display = \\'block\\';}if (document.getElementById(\\'top_share\\') && document.getElementById(\\'bottom_share\\') && story_div1) {var htmlStr = $(\\'#top_share\\').html();$(\\'#bottom_share\\').html(htmlStr);}if($(\\'#ndtvrelcontent\\').length && $(\\'#relateddivcontainer\\').length){$(\\'#relateddivcontainer\\').show();}if($(\\'#share_on_top_disabled\\').length){$(\"#share_on_top\").html($(\"#top_share\").html());}var ad_div10 = document.getElementById(\\'zedo_page_pusher_ad\\');if (document.getElementById(\\'pagepusher_adbox\\') && ad_div10) {document.getElementById(\\'pagepusher_adbox\\').appendChild(ad_div10);ad_div10.style.display = \\'block\\';ad_div10.style.paddingTop = \\'5px\\';}</script></div></div></div></div><script type=\"text/javascript\">window._taboola = window._taboola || [];\\n                _taboola.push({article: \\'auto\\'});\\n                _taboola.push({flush: true});\\n    </script><div id=\"__cube\" data-site=\"ndtv\" data-size=\"120\"></div><script asyc src=\"//edata.ndtv.com/cube/cube.js\"></script><div id=\"___ndtvpushdiv\"></div><script async src=\"https://cdn.ndtv.com/static/js/main.js?ver-20200728.21\"></script><script type=\"text/javascript\">var google_conversion_id = 968076326;var google_custom_params = window.google_tag_params;var google_remarketing_only = true;</script><script type=\"text/javascript\" src=\"//www.googleadservices.com/pagead/conversion.js\"></script><script defer src=\"https://edata.ndtv.com/assembly/2020/jan/static/js/common.js\"></script><noscript><div style=\"display:inline;\"><img height=\"1\" width=\"1\" style=\"border-style:none;\" alt=\"\" src=\"//googleads.g.doubleclick.net/pagead/viewthroughconversion/968076326/?guid=ON&amp;script=0\"/></div></noscript><div class=\"breaking_alert\" data-alert=\"ndtv\" data-type=\"desktop\" data-widpos=\"top\"></div><script src=\"//www.gstatic.com/firebasejs/6.0.4/firebase-app.js\"></script><script src=\"//www.gstatic.com/firebasejs/6.0.4/firebase-firestore.js\"></script><script src=\"//edata.ndtv.com/js/breaking_pushalert_revised.js\"></script><script>var status = 1;$(document).ready(function(){  $(\\'.hdTtl\\').on(\\'click\\', function(e) {$(this).toggleClass(\\'actv\\');$(\\'.lwrDtl\\').stop(true,false).slideToggle(\\'fast\\',function(){if($(\\'.lwrDtl\\').css(\\'display\\') != \\'none\\' && status==1){var iframe = document.getElementById(\\'consfrm_new\\');iframe.src = iframe.src;status = 0;}});});     });</script><script>\\n            //GEO code \\n            function ajax_get(url, callback) {var xmlhttp = new XMLHttpRequest();xmlhttp.onreadystatechange = function() {if (xmlhttp.readyState == 4 && xmlhttp.status == 200) {try {var data = JSON.parse(xmlhttp.responseText);} catch(err) {return;}callback(data);}};xmlhttp.open(\"GET\", url, true);xmlhttp.send();}\\n            if(__usrCntry == \\'_NA_\\'){ajax_get(\\'https://wapi.ndtv.com/geo.json\\', function(data) {if(data[\\'country\\']){setCookie(\"__usrCntry\", data[\\'country\\'],\\'1\\',\\'\\');}});}\\n        </script><!--corona stcky logo--><script src=\"https://edata.ndtv.com/coronavirus/table/highcharts.js\" ></script><div class=\"corSticky\" id=\"_embedhtml\"></div><script src=\"https://edata.ndtv.com/coronavirus/graph_sticky.js\" ></script></body></html>\\n'"
     },
     "metadata": {},
     "execution_count": 7
    }
   ],
   "source": [
    "#gives the raw text format\n",
    "page.text"
   ]
  },
  {
   "cell_type": "code",
   "execution_count": 10,
   "metadata": {},
   "outputs": [
    {
     "output_type": "execute_result",
     "data": {
      "text/plain": "<title>Coronavirus (Covid-19) Tracker: Find India’s day wise Cases, Deaths and Recovered – NDTV.com</title>"
     },
     "metadata": {},
     "execution_count": 10
    }
   ],
   "source": [
    "#converting the page into a beautifulsoup object\n",
    "soup = BeautifulSoup(page.text , 'html.parser')\n",
    "soup.title"
   ]
  },
  {
   "cell_type": "code",
   "execution_count": 12,
   "metadata": {},
   "outputs": [],
   "source": [
    "#returns all the data within the table tag\n",
    "table = soup.find_all('table')"
   ]
  },
  {
   "cell_type": "code",
   "execution_count": 16,
   "metadata": {},
   "outputs": [],
   "source": [
    "#returns the data within the tr tag :tr stands for table row\n",
    "rows = table[0].find_all('tr')"
   ]
  },
  {
   "cell_type": "code",
   "execution_count": 17,
   "metadata": {},
   "outputs": [
    {
     "output_type": "execute_result",
     "data": {
      "text/plain": "['\\n          State\\n    ',\n '\\n          Cases\\n    ',\n '\\n          Active\\n    ',\n '\\n          Recovered\\n    ',\n '\\n          Deaths\\n    ']"
     },
     "metadata": {},
     "execution_count": 17
    }
   ],
   "source": [
    "#getting the headings\n",
    "[i.text for i in rows[0]]"
   ]
  },
  {
   "cell_type": "code",
   "execution_count": 18,
   "metadata": {},
   "outputs": [
    {
     "output_type": "execute_result",
     "data": {
      "text/plain": "['          State    ',\n '          Cases    ',\n '          Active    ',\n '          Recovered    ',\n '          Deaths    ']"
     },
     "metadata": {},
     "execution_count": 18
    }
   ],
   "source": [
    "#replace # with an empty string\n",
    "[i.text.replace('\\n','') for i in rows[0]]"
   ]
  },
  {
   "cell_type": "code",
   "execution_count": 20,
   "metadata": {},
   "outputs": [],
   "source": [
    "#removing empty spaces\n",
    "[i.text.replace('\\n','').strip() for i in rows[0]]\n",
    "headings = [i.text.replace('\\n','').strip() for i in rows[0]]"
   ]
  },
  {
   "cell_type": "code",
   "execution_count": 22,
   "metadata": {},
   "outputs": [],
   "source": [
    "#get the rows in a list\n",
    "all_rows = []\n",
    "for i in rows:\n",
    "  td = i.find_all('td')\n",
    "  row = [i.text for i in td]\n",
    "  all_rows.append(row)    "
   ]
  },
  {
   "cell_type": "code",
   "execution_count": 23,
   "metadata": {},
   "outputs": [
    {
     "output_type": "execute_result",
     "data": {
      "text/plain": "[[],\n ['MaharashtraDistrictCasesAkola757Aurangabad1974Dhule228Jalgaon1039Mumbai45478Mumbai Suburban5363Nagpur692Nashik1575Palghar1421Pune9920Satara629Solapur1291Thane13660Yavatmal150Ahmednagar190Amravati291Beed54Bhandara41Buldhana88Chandrapur32Hingoli208Jalna201Kolhapur646Latur139Nanded176Nandurbar42Parbhani78Raigad1462Ratnagiri350Sangli145Gadchiroli42gondia69Osmanabad125Sindhudurg114Wardha11Washim13',\n  '400651 9211',\n  '146433 1435',\n  '239755 7478',\n  '14463 298'],\n ['Andhra PradeshDistrictCasesChittoor319Guntur511Krishna557Kurnool795Sri Potti Sriramulu Nell*296Anantapur428East Godavari356Prakasam104Srikakulam183Visakhapatnam103West Godavari199Y.S.R.205Vizianagaram23',\n  '120390 10093',\n  '63771 7244',\n  '55406 2784',\n  '1213 65'],\n ['KarnatakaDistrictCasesBengaluru Rural40Bengaluru Urban529Mysuru107Bagalkote103Ballari60Belagavi337Bidar219Chikkaballapura149Dakshina Kannada179Dharwad61Gadag45Kalaburagi669Mandya346Tumakuru36Uttara Kannada95Vijayapura201Chamarajanagara0Chikkamagaluru19Chitradurga14Davangere204Hassan205Haveri24Kodagu4Kolar29Koppal5Raichur369Ramanagara3Shivamogga67Udupi1176Yadgir538',\n  '112504 5503',\n  '67456 3014',\n  '42901 2397',\n  '2147 92'],\n ['GoaDistrictCasesNorth Goa57South Goa69',\n  '5489 202',\n  '1666 10',\n  '3784 189',\n  '39 3'],\n ['Tamil NaduDistrictCasesChengalpattu1314Chennai23324Kanchipuram503Madurai322Namakkal83Ranipet133Thanjavur130Thiruvallur774Thiruvarur67Tiruppur116Vellore71Virudhunagar185Ariyalur444Coimbatore188Cuddalore477Dharmapuri15Dindigul175Erode75Kallakurichi324Kanniyakumari110Karur88Nagapattinam99Perambalur133Pudukkottai53Ramanathapuram119Salem258Sivaganga46Tenkasi103The Nilgiris17Theni129Tiruchirappalli119Tirunelveli433Tirupathur45Tiruvannamalai496Tuticorin333Villupuram509Krishnagiri43',\n  '234114 6426',\n  '57490 417',\n  '172883 5927',\n  '3741 82'],\n ['KeralaDistrictCasesKannur357Kottayam73Alappuzha76Idukki40Kasaragod333Kollam118Kozhikode90Malappuram119Palakkad224Pathanamthitta98Thiruvananthapuram104Thrissur106Ernakulam60Wayanad36',\n  '21797 903',\n  '10364 261',\n  '11365 641',\n  '68 1'],\n ['ChhattisgarhDistrictCasesRaipur46Korba100Balod41Baloda Bazar85Balrampur17Bastar2Bemetara21Bijapur2Bilaspur100Dantewada0Dhamtari6Durg31Gariyaband10Janjgir-Champa56Jashpur77Kabirdham52Kanker19Kondagaon0Korea39Mahasamund54Mungeli87Narayanpur0Raigarh47Rajnandgaon52Sukma0Surajpur9Surguja14',\n  '8539 282',\n  '2855 83',\n  '5636 197',\n  '48 2'],\n ['TelanganaDistrictCasesHyderabad2475MedchalMalkajgiri75Ranga Reddy183Suryapet87Vikarabad40Warangal Urban32Adilabad22Jagitial77Jangoan8Jayashankar Bhupalapally9Jogulamba Gadwal40Kamareddy11Karimnagar17Khammam26Kumuram Bheem Asifabad8Mahabubnagar30Mancherial43Medak11Nalgonda33Narayanpet3Nirmal21Nizamabad76RajannaSircilla16Sangareddy26Bhadradri Kothagudem5Mahabubabad10Mulugu3Nagarkurnool8Peddapalli5Siddipet7Wanaparthy1Warangal Rural4YadadriBhuvanagiri40',\n  '58906 1764',\n  '14663 910',\n  '43751 842',\n  '492 12'],\n ['OdishaDistrictCasesBaleshwar190Bhadrak137Jajapur322Dhenkanal36Kalahandi33Kendrapara164Khordha238Koraput16Sundargarh102Anugul26Balangir129Bargarh16Boudh34Cuttack155Deogarh33Gajapati61Ganjam581Jagatsinghapur91Jharsuguda8Kandhamal28Kendujhar34Malkangiri20Mayurbhanj73Nabarangpur2Nayagarh86Nuapada69Puri103Rayagada2Sambalpur16Sonepur29',\n  '29175 1068',\n  '10077 185',\n  '18939 878',\n  '159 5'],\n ['Madhya PradeshDistrictCasesBarwani60Bhopal1880Dewas140Dhar132East Nimar266Gwalior211Indore3839Jabalpur276Ujjain799Agar Malwa15Alirajpur3Betul35Burhanpur351Chhindwara16Dindori29Harda4Hoshangabad37Khargone196Mandsaur112Morena109Raisen71Ratlam51Sagar228Shajapur39Shandol14Sheopur26Tikamgarh18Vidisha37Anuppur22Ashoknagar13Balaghat9Bhind87Chhatarpur35Damoh26Datia12Guna8Jhabua14Katni3Mandla15Narsinghpur17Neemuch319Niwari0Panna20Rajgarh31Rewa39Satna24Sehore12Seoni2Shivpuri15Sidhi17Singrauli13Umaria10',\n  '30134 917',\n  '8357 313',\n  '20934 591',\n  '843 13'],\n ['GujaratDistrictCasesAhmadabad17125Anand107Arvalli134Banas Kantha147Bhavnagar146Gandhinagar410PanchMahals107Surat2311Vadodara1555Bharuch56Botad55Chhotaudepur37Dang5Dohad43GirSomnath45Jamnagar63Kachchh99Kheda98Mahesana159Mahisagar125Narmada25Naysari35Patan105Rajkot135SabarKantha101Surendranagar55Tapi6Valsad47Amreli16DevbhumiDwarka22Junagadh31Morbi4Porbandar11',\n  '59126 1144',\n  '13535 337',\n  '43195 783',\n  '2396 24'],\n ['RajasthanDistrictCasesAjmer379Banswara91Bharatpur563Jaipur2177Jhalawar329Jodhpur1748Kota503Nagaur500Alwar90Barmer34Bhilwara250Bikaner112Chittorgarh188Churu81Dausa61Dholpur60Dungarpur374Hanumangarh31Jaisalmer53Jhunjhunu64Karauli17Pali352Rajsamand140SawaiMadhopur26Sikar231Tonk171Udaipur724Baran59Bundi5Ganganagar8Jalore164Pratapgarh14Sirohi130',\n  '38964 450',\n  '10745 77',\n  '27569 367',\n  '650 6'],\n ['HaryanaDistrictCasesFaridabad867Sonipat404Ambala93Bhiwani60CharkiDadri43Fatehabad38Gurugram2950Hisar98Jhajjar114Jind38Kaithal48Karnal104Kurukshetra55Nuh68Palwal120Panchkula39Panipat78Rohtak145Sirsa50Yamunanagar19Mahendragarh47Rewari56',\n  '33631 755',\n  '6798 86',\n  '26420 662',\n  '413 7'],\n ['Uttar PradeshDistrictCasesAgra933Aligarh215Amroha80Bareilly17Bijnor157Bulandshahr166Firozabad190Gautam Buddha Nagar1119Kanpur Nagar286Lucknow386Mathura129Meerut504Moradabad252Muzaffarnagar117Rae Bareli78Rampur203Saharanpur298Sant Kabeer Nagar132Varanasi243Auraiya37Ayodhya120Azamgarh138Baghpat68Bahraich73Balrampur49Banda27Basti214Bhadohi60Budaun23Etah52Etawah46Ghaziabad794Ghazipur159Gonda59Gorakhpur166Hapur225Hardoi49Jalaun41Jaunpur194Jhansi41Kannauj69Kasganj16Kaushambi6Mainpuri46Mau48Mirzapur22Pilibhit15Pratapgarh15Prayagraj30Sambhal116Shamli40Shravasti23Sitapur32Sultanpur97Unnao42Ambedkar Nagar92Amethi206Ballia60Barabanki168Chandauli38Chitrakoot4Deoria143Farrukhabad36Fatehpur3Hamirpur3Hathras43Kanpur Dehat4Kheri72Kushi Nagar67Lalitpur3Maharajganj85Mahoba3Shahjahanpur25Siddharth Nagar159Sonbhadra10',\n  '77334 3383',\n  '29997 2063',\n  '45807 1287',\n  '1530 33'],\n ['DelhiDistrictCasesCentral4817East2472New Delhi3405North3059North East1914North West5463Shahdara1580South2329South East2446South West2391West4768',\n  '133310 1035',\n  '10770 ',\n  '118633 1126',\n  '3907 26'],\n ['AssamDistrictCasesDhubri30Goalpara19Marigaon50Baksa14Barpeta28Biswanath16Bongaigaon12Cachar80Charaideo29Chirang6Darrang20Dhemaji47Dibrugarh61Dima Hasao86Golaghat203Hailakandi57Hojai89Jorhat24Kamrup42Kamrup Metro276KarbiAnglong13Karimganj85Kokrajhar37Lakhimpur57Majuli2Nagaon143Nalbari23Sivasagar20Sonitpur27South SalmaraMancachar4Tinsukia84Udalguri28West KarbiAnglong5',\n  '36295 1348',\n  '8371 130',\n  '27832 1214',\n  '92 4'],\n ['SikkimDistrictCasesEast District3North District0South District3West District0',\n  '596 17',\n  '397 5',\n  '198 12',\n  '1 '],\n ['BiharDistrictCasesBuxar134Gaya115Munger188Patna279Rohtas256Arwal52Aurangabad75Banka134Begusarai243Bhagalpur266Bhojpur103Darbhanga143Gopalganj123Jehanabad178Kaimur (bhabua)105Lakhisarai72Madhepura82Madhubani199Nalanda123Nawada122PurbiChamparan138Purnia135Saran101Siwan139Vaishali87Araria68Jamui47Katihar175Khagaria253Kishanganj75Muzaffarpur96Pashchim Champaran57Saharsa88Samastipur139Sheikhpura118Sheohar20Sitamarhi73Supaul87',\n  '46080 2237',\n  '15482 764',\n  '30320 1464',\n  '278 9'],\n ['West BengalDistrictCases24 Paraganas North103124 Paraganas South281Darjeeling97Howrah1435Jalpaiguri88Kalimpong18Kolkata2777Maldah235Medinipur East153Medinipur West159Hooghly604Murshidabad125Nadia139Paschim Bardhaman70Purba Bardhaman130Alipurduar39Bankura116Birbhum206Coochbehar210Dinajpur Dakshin50Dinajpur Uttar216Jhargram9Purulia66',\n  '65258 2294',\n  '19652 159',\n  '44116 2094',\n  '1490 41'],\n ['Andaman And Nicobar IslandsDistrictCasesSouth Andamans33Nicobars1North And Middle Andaman1',\n  '428 65',\n  '225 59',\n  '201 5',\n  '2 1'],\n ['PuducherryDistrictCasesPondicherry111Karaikal2Mahe4Yanam0',\n  '3177 166',\n  '1256 74',\n  '1874 92',\n  '47 '],\n ['Arunachal PradeshDistrictCasesAnjaw0Changlang31Dibang Valley0East Kameng0East Siang1Kamle0KraDaadi0KurungKumey0Leparada0Lohit3Longding0Lower Dibang Valley0Lower Siang0Lower Subansiri0Namsai2PakkeKessang1Papum Pare8Shi Yomi0Siang0Tawang1Tirap0Upper Siang1Upper Subansiri0West Kameng0West Siang1',\n  '1410 80',\n  '730 20',\n  '677 60',\n  '3 '],\n ['NagalandDistrictCasesDimapur20Kiphire3Kohima7Longleng0Mokokchung0Mon8Peren2Phek1Tuensang3Wokha0Zunheboto0',\n  '1513 53',\n  '913 35',\n  '595 18',\n  '5 '],\n ['Dadra And Nagar HaveliDistrictCasesDadra And Nagar Haveli20',\n  '1026 44',\n  '376 ',\n  '648 52',\n  '2 '],\n ['JharkhandDistrictCasesRanchi148Bokaro16Deoghar5Dhanbad32Garhwa80Giridih19Hazaribagh110Jamtara2Koderma58Simdega48Chatra1Dumka5East Singhbum170Godda2Gumla28Khunti10Latehar14Lohardaga8Pakur4Palamu27Ramgarh75Sahebganj0SaraikelaKharsawan20West Singhbhum21',\n  '9861 783',\n  '5728 607',\n  '4035 167',\n  '98 9'],\n ['TripuraDistrictCasesGomati74North Tripura14Dhalai196Khowai24Sepahijala174South Tripura53Unakoti49West Tripura45',\n  '4485 216',\n  '1786 159',\n  '2678 57',\n  '21 '],\n ['LadakhDistrictCasesKargil77LehLadakh43',\n  '1347 20',\n  '261 7',\n  '1080 13',\n  '6 '],\n ['Jammu And KashmirDistrictCasesAnantnag395Bandipora175Shopian255Srinagar300Baramulla271Budgam110Ganderbal37Jammu138Kathua53Kulgam295Kupwara231Rajouri39Ramban151Reasi26Samba25Udhampur155Mirpur0Muzaffarabad0Doda27Kishtwar10Poonch35Pulwama108',\n  '19419 540',\n  '7749 88',\n  '11322 437',\n  '348 15'],\n ['Himachal PradeshDistrictCasesChamba29Hamirpur117Kangra105Sirmaur11Solan32Una41Bilaspur21Kinnaur2Kullu4Lahaul And Spiti0Mandi21Shimla10',\n  '2403 73',\n  '1057 ',\n  '1332 98',\n  '14 '],\n ['PunjabDistrictCasesJalandhar297Ludhiana293Patiala132Amritsar485Barnala25Faridkot74Firozepur50Gurdaspur154Hoshiarpur140Kapurthala44Mansa31Moga65Pathankot86S.A.S Nagar137Sangrur107Shahid Bhagat Singh Nagar (Nawanshahr)99Sri Muktsar Sahib71Tarn Taran163Bathinda60Fatehgarh Sahib57Fazilka53Rupnagar (Ropar)74',\n  '14946 568',\n  '4372 82',\n  '10213 461',\n  '361 25'],\n ['UttarakhandDistrictCasesHaridwar94Dehradun370Nainital323Almora71Bageshwar31Chamoli36Champawat45PauriGarhwal36Pithoragarh43Rudraprayag30Tehri Garhwal110Udam Singh Nagar83Uttar Kashi24',\n  '6866 279',\n  '2983 186',\n  '3811 91',\n  '72 2'],\n ['ManipurDistrictCasesBishnupur7Chandel5Churachandpur32Imphal East10Imphal West21Jiribam3Kakching2Kamjong5Kangpokpi26Noney1Pherzawl3Senapati6Tamenglong2Tengnoupal9Thoubal18Ukhrul4',\n  '2458 141',\n  '819 114',\n  '1639 27',\n  '0 '],\n ['ChandigarhDistrictCasesChandigarh313', '978 44', '353 32', '611 12', '14 '],\n ['MeghalayaDistrictCasesEast Khasi Hills22East Garo Hills0East Jaintia Hills0North Garo Hills1Ribhoi0South Garo Hills0South West Garo Hills4South West Khasi Hills0West Garo Hills5West Jaintia Hills1West Khasi Hills1',\n  '784 5',\n  '572 ',\n  '207 13',\n  '5 '],\n ['MizoramDistrictCasesAizawl10Champhai0Hnahthial0Khawzawl0Kolasib11Lawngtlai2Lunglei2Mamit8Saiha0Saitual1Serchhip0',\n  '398 14',\n  '183 ',\n  '215 17',\n  '0 '],\n ['LakshadweepDistrictCasesLakshadweep District0', '0 ', '0 ', '0 ', '0 ']]"
     },
     "metadata": {},
     "execution_count": 23
    }
   ],
   "source": [
    "all_rows"
   ]
  },
  {
   "cell_type": "code",
   "execution_count": 24,
   "metadata": {},
   "outputs": [
    {
     "output_type": "execute_result",
     "data": {
      "text/plain": "[]"
     },
     "metadata": {},
     "execution_count": 24
    }
   ],
   "source": [
    "#remove the first element\n",
    "all_rows.pop(0) "
   ]
  },
  {
   "cell_type": "code",
   "execution_count": 25,
   "metadata": {},
   "outputs": [],
   "source": [
    "#remove the part of first element after 'DistrictCases'\n",
    "for i in all_rows:\n",
    "  i[0] = i[0][:i[0].find(\"DistrictCases\")]"
   ]
  },
  {
   "cell_type": "code",
   "execution_count": 26,
   "metadata": {},
   "outputs": [],
   "source": [
    "#remove inc/dec part after space\n",
    "for i in all_rows:\n",
    "  i[1] = i[1][:i[1].find(\" \")]\n",
    "  i[2] = i[2][:i[2].find(\" \")]\n",
    "  i[3] = i[3][:i[3].find(\" \")]\n",
    "  i[4] = i[4][:i[4].find(\" \")]"
   ]
  },
  {
   "cell_type": "code",
   "execution_count": 27,
   "metadata": {},
   "outputs": [
    {
     "output_type": "execute_result",
     "data": {
      "text/plain": "[['Maharashtra', '400651', '146433', '239755', '14463'],\n ['Andhra Pradesh', '120390', '63771', '55406', '1213'],\n ['Karnataka', '112504', '67456', '42901', '2147'],\n ['Goa', '5489', '1666', '3784', '39'],\n ['Tamil Nadu', '234114', '57490', '172883', '3741'],\n ['Kerala', '21797', '10364', '11365', '68'],\n ['Chhattisgarh', '8539', '2855', '5636', '48'],\n ['Telangana', '58906', '14663', '43751', '492'],\n ['Odisha', '29175', '10077', '18939', '159'],\n ['Madhya Pradesh', '30134', '8357', '20934', '843'],\n ['Gujarat', '59126', '13535', '43195', '2396'],\n ['Rajasthan', '38964', '10745', '27569', '650'],\n ['Haryana', '33631', '6798', '26420', '413'],\n ['Uttar Pradesh', '77334', '29997', '45807', '1530'],\n ['Delhi', '133310', '10770', '118633', '3907'],\n ['Assam', '36295', '8371', '27832', '92'],\n ['Sikkim', '596', '397', '198', '1'],\n ['Bihar', '46080', '15482', '30320', '278'],\n ['West Bengal', '65258', '19652', '44116', '1490'],\n ['Andaman And Nicobar Islands', '428', '225', '201', '2'],\n ['Puducherry', '3177', '1256', '1874', '47'],\n ['Arunachal Pradesh', '1410', '730', '677', '3'],\n ['Nagaland', '1513', '913', '595', '5'],\n ['Dadra And Nagar Haveli', '1026', '376', '648', '2'],\n ['Jharkhand', '9861', '5728', '4035', '98'],\n ['Tripura', '4485', '1786', '2678', '21'],\n ['Ladakh', '1347', '261', '1080', '6'],\n ['Jammu And Kashmir', '19419', '7749', '11322', '348'],\n ['Himachal Pradesh', '2403', '1057', '1332', '14'],\n ['Punjab', '14946', '4372', '10213', '361'],\n ['Uttarakhand', '6866', '2983', '3811', '72'],\n ['Manipur', '2458', '819', '1639', '0'],\n ['Chandigarh', '978', '353', '611', '14'],\n ['Meghalaya', '784', '572', '207', '5'],\n ['Mizoram', '398', '183', '215', '0'],\n ['Lakshadweep', '0', '0', '0', '0']]"
     },
     "metadata": {},
     "execution_count": 27
    }
   ],
   "source": [
    "all_rows"
   ]
  },
  {
   "cell_type": "code",
   "execution_count": 28,
   "metadata": {},
   "outputs": [],
   "source": [
    "import pandas as pd\n",
    "df = pd.DataFrame(all_rows,columns=headings) "
   ]
  },
  {
   "cell_type": "code",
   "execution_count": 29,
   "metadata": {},
   "outputs": [
    {
     "output_type": "execute_result",
     "data": {
      "text/plain": "                          State   Cases  Active Recovered Deaths\n0                   Maharashtra  400651  146433    239755  14463\n1                Andhra Pradesh  120390   63771     55406   1213\n2                     Karnataka  112504   67456     42901   2147\n3                           Goa    5489    1666      3784     39\n4                    Tamil Nadu  234114   57490    172883   3741\n5                        Kerala   21797   10364     11365     68\n6                  Chhattisgarh    8539    2855      5636     48\n7                     Telangana   58906   14663     43751    492\n8                        Odisha   29175   10077     18939    159\n9                Madhya Pradesh   30134    8357     20934    843\n10                      Gujarat   59126   13535     43195   2396\n11                    Rajasthan   38964   10745     27569    650\n12                      Haryana   33631    6798     26420    413\n13                Uttar Pradesh   77334   29997     45807   1530\n14                        Delhi  133310   10770    118633   3907\n15                        Assam   36295    8371     27832     92\n16                       Sikkim     596     397       198      1\n17                        Bihar   46080   15482     30320    278\n18                  West Bengal   65258   19652     44116   1490\n19  Andaman And Nicobar Islands     428     225       201      2\n20                   Puducherry    3177    1256      1874     47\n21            Arunachal Pradesh    1410     730       677      3\n22                     Nagaland    1513     913       595      5\n23       Dadra And Nagar Haveli    1026     376       648      2\n24                    Jharkhand    9861    5728      4035     98\n25                      Tripura    4485    1786      2678     21\n26                       Ladakh    1347     261      1080      6\n27            Jammu And Kashmir   19419    7749     11322    348\n28             Himachal Pradesh    2403    1057      1332     14\n29                       Punjab   14946    4372     10213    361\n30                  Uttarakhand    6866    2983      3811     72\n31                      Manipur    2458     819      1639      0\n32                   Chandigarh     978     353       611     14\n33                    Meghalaya     784     572       207      5\n34                      Mizoram     398     183       215      0\n35                  Lakshadweep       0       0         0      0",
      "text/html": "<div>\n<style scoped>\n    .dataframe tbody tr th:only-of-type {\n        vertical-align: middle;\n    }\n\n    .dataframe tbody tr th {\n        vertical-align: top;\n    }\n\n    .dataframe thead th {\n        text-align: right;\n    }\n</style>\n<table border=\"1\" class=\"dataframe\">\n  <thead>\n    <tr style=\"text-align: right;\">\n      <th></th>\n      <th>State</th>\n      <th>Cases</th>\n      <th>Active</th>\n      <th>Recovered</th>\n      <th>Deaths</th>\n    </tr>\n  </thead>\n  <tbody>\n    <tr>\n      <th>0</th>\n      <td>Maharashtra</td>\n      <td>400651</td>\n      <td>146433</td>\n      <td>239755</td>\n      <td>14463</td>\n    </tr>\n    <tr>\n      <th>1</th>\n      <td>Andhra Pradesh</td>\n      <td>120390</td>\n      <td>63771</td>\n      <td>55406</td>\n      <td>1213</td>\n    </tr>\n    <tr>\n      <th>2</th>\n      <td>Karnataka</td>\n      <td>112504</td>\n      <td>67456</td>\n      <td>42901</td>\n      <td>2147</td>\n    </tr>\n    <tr>\n      <th>3</th>\n      <td>Goa</td>\n      <td>5489</td>\n      <td>1666</td>\n      <td>3784</td>\n      <td>39</td>\n    </tr>\n    <tr>\n      <th>4</th>\n      <td>Tamil Nadu</td>\n      <td>234114</td>\n      <td>57490</td>\n      <td>172883</td>\n      <td>3741</td>\n    </tr>\n    <tr>\n      <th>5</th>\n      <td>Kerala</td>\n      <td>21797</td>\n      <td>10364</td>\n      <td>11365</td>\n      <td>68</td>\n    </tr>\n    <tr>\n      <th>6</th>\n      <td>Chhattisgarh</td>\n      <td>8539</td>\n      <td>2855</td>\n      <td>5636</td>\n      <td>48</td>\n    </tr>\n    <tr>\n      <th>7</th>\n      <td>Telangana</td>\n      <td>58906</td>\n      <td>14663</td>\n      <td>43751</td>\n      <td>492</td>\n    </tr>\n    <tr>\n      <th>8</th>\n      <td>Odisha</td>\n      <td>29175</td>\n      <td>10077</td>\n      <td>18939</td>\n      <td>159</td>\n    </tr>\n    <tr>\n      <th>9</th>\n      <td>Madhya Pradesh</td>\n      <td>30134</td>\n      <td>8357</td>\n      <td>20934</td>\n      <td>843</td>\n    </tr>\n    <tr>\n      <th>10</th>\n      <td>Gujarat</td>\n      <td>59126</td>\n      <td>13535</td>\n      <td>43195</td>\n      <td>2396</td>\n    </tr>\n    <tr>\n      <th>11</th>\n      <td>Rajasthan</td>\n      <td>38964</td>\n      <td>10745</td>\n      <td>27569</td>\n      <td>650</td>\n    </tr>\n    <tr>\n      <th>12</th>\n      <td>Haryana</td>\n      <td>33631</td>\n      <td>6798</td>\n      <td>26420</td>\n      <td>413</td>\n    </tr>\n    <tr>\n      <th>13</th>\n      <td>Uttar Pradesh</td>\n      <td>77334</td>\n      <td>29997</td>\n      <td>45807</td>\n      <td>1530</td>\n    </tr>\n    <tr>\n      <th>14</th>\n      <td>Delhi</td>\n      <td>133310</td>\n      <td>10770</td>\n      <td>118633</td>\n      <td>3907</td>\n    </tr>\n    <tr>\n      <th>15</th>\n      <td>Assam</td>\n      <td>36295</td>\n      <td>8371</td>\n      <td>27832</td>\n      <td>92</td>\n    </tr>\n    <tr>\n      <th>16</th>\n      <td>Sikkim</td>\n      <td>596</td>\n      <td>397</td>\n      <td>198</td>\n      <td>1</td>\n    </tr>\n    <tr>\n      <th>17</th>\n      <td>Bihar</td>\n      <td>46080</td>\n      <td>15482</td>\n      <td>30320</td>\n      <td>278</td>\n    </tr>\n    <tr>\n      <th>18</th>\n      <td>West Bengal</td>\n      <td>65258</td>\n      <td>19652</td>\n      <td>44116</td>\n      <td>1490</td>\n    </tr>\n    <tr>\n      <th>19</th>\n      <td>Andaman And Nicobar Islands</td>\n      <td>428</td>\n      <td>225</td>\n      <td>201</td>\n      <td>2</td>\n    </tr>\n    <tr>\n      <th>20</th>\n      <td>Puducherry</td>\n      <td>3177</td>\n      <td>1256</td>\n      <td>1874</td>\n      <td>47</td>\n    </tr>\n    <tr>\n      <th>21</th>\n      <td>Arunachal Pradesh</td>\n      <td>1410</td>\n      <td>730</td>\n      <td>677</td>\n      <td>3</td>\n    </tr>\n    <tr>\n      <th>22</th>\n      <td>Nagaland</td>\n      <td>1513</td>\n      <td>913</td>\n      <td>595</td>\n      <td>5</td>\n    </tr>\n    <tr>\n      <th>23</th>\n      <td>Dadra And Nagar Haveli</td>\n      <td>1026</td>\n      <td>376</td>\n      <td>648</td>\n      <td>2</td>\n    </tr>\n    <tr>\n      <th>24</th>\n      <td>Jharkhand</td>\n      <td>9861</td>\n      <td>5728</td>\n      <td>4035</td>\n      <td>98</td>\n    </tr>\n    <tr>\n      <th>25</th>\n      <td>Tripura</td>\n      <td>4485</td>\n      <td>1786</td>\n      <td>2678</td>\n      <td>21</td>\n    </tr>\n    <tr>\n      <th>26</th>\n      <td>Ladakh</td>\n      <td>1347</td>\n      <td>261</td>\n      <td>1080</td>\n      <td>6</td>\n    </tr>\n    <tr>\n      <th>27</th>\n      <td>Jammu And Kashmir</td>\n      <td>19419</td>\n      <td>7749</td>\n      <td>11322</td>\n      <td>348</td>\n    </tr>\n    <tr>\n      <th>28</th>\n      <td>Himachal Pradesh</td>\n      <td>2403</td>\n      <td>1057</td>\n      <td>1332</td>\n      <td>14</td>\n    </tr>\n    <tr>\n      <th>29</th>\n      <td>Punjab</td>\n      <td>14946</td>\n      <td>4372</td>\n      <td>10213</td>\n      <td>361</td>\n    </tr>\n    <tr>\n      <th>30</th>\n      <td>Uttarakhand</td>\n      <td>6866</td>\n      <td>2983</td>\n      <td>3811</td>\n      <td>72</td>\n    </tr>\n    <tr>\n      <th>31</th>\n      <td>Manipur</td>\n      <td>2458</td>\n      <td>819</td>\n      <td>1639</td>\n      <td>0</td>\n    </tr>\n    <tr>\n      <th>32</th>\n      <td>Chandigarh</td>\n      <td>978</td>\n      <td>353</td>\n      <td>611</td>\n      <td>14</td>\n    </tr>\n    <tr>\n      <th>33</th>\n      <td>Meghalaya</td>\n      <td>784</td>\n      <td>572</td>\n      <td>207</td>\n      <td>5</td>\n    </tr>\n    <tr>\n      <th>34</th>\n      <td>Mizoram</td>\n      <td>398</td>\n      <td>183</td>\n      <td>215</td>\n      <td>0</td>\n    </tr>\n    <tr>\n      <th>35</th>\n      <td>Lakshadweep</td>\n      <td>0</td>\n      <td>0</td>\n      <td>0</td>\n      <td>0</td>\n    </tr>\n  </tbody>\n</table>\n</div>"
     },
     "metadata": {},
     "execution_count": 29
    }
   ],
   "source": [
    "df"
   ]
  },
  {
   "cell_type": "code",
   "execution_count": null,
   "metadata": {},
   "outputs": [],
   "source": []
  }
 ]
}